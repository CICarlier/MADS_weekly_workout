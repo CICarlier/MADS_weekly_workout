{
 "cells": [
  {
   "cell_type": "markdown",
   "metadata": {},
   "source": [
    "# Wipeout\n",
    "On November 1st 2019 I went out for a bike ride and wiped out. Not a little loss of control or a little skid, we're talking flying off the bike in traffic kind of wipe out. I finished my ride as I had planned, and when I was telling my wife about the incident she asked me where but I couldn't really remember. I did remember a few things though - can you help me track down where I wiped out from my ride log data, which I put in `wipeout.csv`?\n",
    "\n",
    "Specifically I remember that:\n",
    "1. I launched off the bike. So at some point both my reported speed `enhanced_speed` and my reported  `cadence` from my wearables would have been 0.\n",
    "2. I was at least 5 minutes into my ride at the time, headed out of the city.\n",
    "4. I do remember stopping during my ride *before* I wiped out to give an in promptu lecture to a motorist on Miller as to whether cars belonged in the bike lane.\n",
    "\n",
    "Where and when did I wipe out (in units of `timestamp`, `position_lat_degrees` and `position_long_degrees`)."
   ]
  },
  {
   "cell_type": "code",
   "execution_count": null,
   "metadata": {},
   "outputs": [],
   "source": [
    "import pandas as pd\n",
    "pd.read_csv(\"wipeout.csv\")"
   ]
  }
 ],
 "metadata": {
  "kernelspec": {
   "display_name": "Python 3",
   "language": "python",
   "name": "python3"
  },
  "language_info": {
   "codemirror_mode": {
    "name": "ipython",
    "version": 3
   },
   "file_extension": ".py",
   "mimetype": "text/x-python",
   "name": "python",
   "nbconvert_exporter": "python",
   "pygments_lexer": "ipython3",
   "version": "3.7.3"
  }
 },
 "nbformat": 4,
 "nbformat_minor": 4
}
